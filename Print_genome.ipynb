{
 "cells": [
  {
   "cell_type": "code",
   "execution_count": 2,
   "metadata": {
    "collapsed": false
   },
   "outputs": [],
   "source": [
    "from reportlab.pdfgen import canvas\n",
    "from reportlab.lib.units import inch, pica\n",
    "from reportlab.pdfbase import pdfmetrics\n",
    "from reportlab.pdfbase.ttfonts import TTFont\n",
    "import random\n",
    "import twobitreader\n",
    "import os"
   ]
  },
  {
   "cell_type": "markdown",
   "metadata": {},
   "source": [
    "## Initialize Venter books"
   ]
  },
  {
   "cell_type": "code",
   "execution_count": 3,
   "metadata": {
    "collapsed": true
   },
   "outputs": [],
   "source": [
    "venter = twobitreader.TwoBitFile(\"venter1.2bit\")"
   ]
  },
  {
   "cell_type": "code",
   "execution_count": 4,
   "metadata": {
    "collapsed": false
   },
   "outputs": [],
   "source": [
    "venter_sizes = venter.sequence_sizes()"
   ]
  },
  {
   "cell_type": "code",
   "execution_count": 5,
   "metadata": {
    "collapsed": true
   },
   "outputs": [],
   "source": [
    "venter_total = 0\n",
    "for i in venter_sizes:\n",
    "    venter_total+=venter_sizes[i]"
   ]
  },
  {
   "cell_type": "code",
   "execution_count": 6,
   "metadata": {
    "collapsed": false
   },
   "outputs": [
    {
     "data": {
      "text/plain": [
       "2809547336L"
      ]
     },
     "execution_count": 6,
     "metadata": {},
     "output_type": "execute_result"
    }
   ],
   "source": [
    "venter_total"
   ]
  },
  {
   "cell_type": "markdown",
   "metadata": {},
   "source": [
    "## Initialize the fonts"
   ]
  },
  {
   "cell_type": "code",
   "execution_count": 7,
   "metadata": {
    "collapsed": true
   },
   "outputs": [],
   "source": [
    "pdfmetrics.registerFont(TTFont('VeraMO', 'fonts/VeraMono.ttf'))\n",
    "pdfmetrics.registerFont(TTFont('InputMonoThin', 'fonts/InputMono/InputMono/InputMono-Thin.ttf'))\n",
    "pdfmetrics.registerFont(TTFont('InputMonoNarrow', 'fonts/InputMono/InputMonoNarrow/InputMonoNarrow-Thin.ttf'))\n",
    "\n",
    "#font, size, n_lines, n_letters, line_space, top_shift, left_shift\n",
    "versions = {}\n",
    "versions[\"vera_8\"]          = [\"VeraMO\", 8, 101, 114, 0.1, 0.24, -0.11]\n",
    "versions[\"vera_10\"]         = [\"VeraMO\", 10, 84, 91, 0.12, 0.26, -0.11]\n",
    "\n",
    "versions[\"input_thin_8\"]    = [\"InputMonoThin\", 8, 101, 108, 0.1, 0.24, -0.11]\n",
    "versions[\"input_thin_10\"]   = [\"InputMonoThin\", 10, 84, 91, 0.12, 0.26, -0.11]\n",
    "\n",
    "versions[\"input_narrow_10\"] = [\"InputMonoNarrow\", 10, 84, 91, 0.12, 0.26, -0.11]\n"
   ]
  },
  {
   "cell_type": "code",
   "execution_count": 8,
   "metadata": {
    "collapsed": false
   },
   "outputs": [
    {
     "name": "stdout",
     "output_type": "stream",
     "text": [
      "Version input_thin_8: 257567 pages in 160 volumes\n",
      "Version input_narrow_10: 367549 pages in 229 volumes\n",
      "Version vera_10: 367549 pages in 229 volumes\n",
      "Version input_thin_10: 367549 pages in 229 volumes\n",
      "Version vera_8: 244011 pages in 152 volumes\n"
     ]
    }
   ],
   "source": [
    "for vv in versions:\n",
    "    tot_pages   = (venter_total)/(versions[vv][2]*versions[vv][3])\n",
    "    tot_volumes = tot_pages/(800*2)\n",
    "    print \"Version {}: {} pages in {} volumes\".format(vv, tot_pages, tot_volumes)"
   ]
  },
  {
   "cell_type": "markdown",
   "metadata": {},
   "source": [
    "## Page printers"
   ]
  },
  {
   "cell_type": "code",
   "execution_count": 9,
   "metadata": {
    "collapsed": true
   },
   "outputs": [],
   "source": [
    "def get_page_data():\n",
    "    \n",
    "    p_width      = 8.5*inch\n",
    "    p_heigth     = 11*inch\n",
    "\n",
    "    p_bleed      = 0.125*inch\n",
    "    p_margin     = 0.3*inch\n",
    "    p_width_int  = p_width-2*p_margin-2*p_bleed\n",
    "    p_heigth_int = p_heigth-2*p_margin-2*p_bleed\n",
    "    \n",
    "    return p_width, p_heigth, p_bleed, p_margin, p_width_int, p_heigth_int"
   ]
  },
  {
   "cell_type": "code",
   "execution_count": 10,
   "metadata": {
    "collapsed": true
   },
   "outputs": [],
   "source": [
    "def print_standard_page(_canvas, _version, _chr, _pos_start, with_header = False, skip_lines = 2, num_page=0, collection_total_pages = 248956):\n",
    "    \n",
    "    # Get the page data\n",
    "    p_width, p_heigth, p_bleed, p_margin, p_width_int, p_heigth_int = get_page_data()\n",
    "    \n",
    "    # Initialize page\n",
    "    _canvas.setFont(versions[_version][0], versions[_version][1])\n",
    "    _canvas.translate(p_bleed+p_margin, p_bleed+p_margin)\n",
    "    \n",
    "    # Get version details\n",
    "    n_lines    = versions[_version][2]\n",
    "    n_letters  = versions[_version][3]\n",
    "    line_space = versions[_version][4]\n",
    "    top_shift  = versions[_version][5]\n",
    "    left_shift = versions[_version][6]\n",
    "    \n",
    "    # Print header in case\n",
    "    if with_header:\n",
    "        \n",
    "        _index = \"Chromosome {}\".format(_chr)\n",
    "        _canvas.drawCentredString(left_shift*inch+p_width_int/2, p_heigth_int-top_shift*inch, _index)\n",
    "        skip_lines = 4\n",
    "    \n",
    "    char_accum = 0\n",
    "    # Print all the letters\n",
    "    for i in range(n_lines-skip_lines):    \n",
    "\n",
    "        _this_start = _pos_start+i*n_letters\n",
    "        if _this_start>= venter_sizes[_chr]-1:\n",
    "            break\n",
    "            \n",
    "        _letters    = venter[_chr][_this_start:_this_start+n_letters].upper()\n",
    "        char_accum  = char_accum+len(_letters)\n",
    "        \n",
    "        if with_header:\n",
    "            _canvas.drawString(left_shift*inch, p_heigth_int-line_space*(i)*inch-top_shift*inch-line_space*2*inch, _letters)\n",
    "        else:\n",
    "            _canvas.drawString(left_shift*inch, p_heigth_int-line_space*(i)*inch-top_shift*inch, _letters)\n",
    "    \n",
    "    # Compute last char printed\n",
    "    _pos_end   = _pos_start+char_accum\n",
    "    \n",
    "    # Print footer - CHR1 [18228600,18240000] - PG. 11\n",
    "    \n",
    "    _index = \"{} [{:,} / {:,}] - Page {:,} of {:,}\".format(_chr.upper(), _pos_start, _pos_end, num_page+1, collection_total_pages)\n",
    "    _canvas.drawCentredString(left_shift*inch+p_width_int/2, p_heigth_int-line_space*(n_lines-1)*inch-top_shift*inch, _index)\n",
    "    \n",
    "    return _pos_end"
   ]
  },
  {
   "cell_type": "code",
   "execution_count": 11,
   "metadata": {
    "collapsed": true
   },
   "outputs": [],
   "source": [
    "def print_filler_page(_canvas, _version):\n",
    "    \n",
    "    # Get the page data\n",
    "    p_width, p_heigth, p_bleed, p_margin, p_width_int, p_heigth_int = get_page_data()\n",
    "    \n",
    "    # Get version details\n",
    "    n_lines    = versions[_version][2]\n",
    "    n_letters  = versions[_version][3]\n",
    "    line_space = versions[_version][4]\n",
    "    top_shift  = versions[_version][5]\n",
    "    left_shift = versions[_version][6]\n",
    "    \n",
    "    _canvas.setFont(versions[_version][0], versions[_version][1])\n",
    "    _canvas.translate(p_bleed+p_margin, p_bleed+p_margin)\n",
    "    \n",
    "    _index = \"Blank page\"\n",
    "    _canvas.drawCentredString(left_shift*inch+p_width_int/2, p_heigth_int-top_shift*inch, _index)"
   ]
  },
  {
   "cell_type": "code",
   "execution_count": 24,
   "metadata": {
    "collapsed": true
   },
   "outputs": [],
   "source": [
    "def _get_base_page(_chr):\n",
    "    \n",
    "    mchr = {}\n",
    "    for i in range(22):\n",
    "        mchr[\"CHR{}\".format(i+1)] = \"0\"*(3-len(str(i+1)))+str(i+1)+\"-C-.pdf\"\n",
    "    mchr[\"CHRX\"] = \"023-C-.pdf\"\n",
    "    mchr[\"CHRY\"] = \"024-C-.pdf\"\n",
    "    \n",
    "    return mchr[_chr.upper()]\n",
    "\n",
    "def print_cover_page(_version, _chr, _vol_in_chromosome, _to_vols_chromosomes, _vol_in_collection, _to_vols_collection):\n",
    "    \n",
    "    from PyPDF2 import PdfFileMerger, PdfFileReader, PdfFileWriter\n",
    "    import StringIO\n",
    "    \n",
    "    pdfmetrics.registerFont(TTFont('InputMonoCompressedThin', 'fonts/InputMono/InputMonoCompressed/InputMonoCompressed-Thin.ttf'))\n",
    "    pdfmetrics.registerFont(TTFont('InputMonoCompressedRegular', 'fonts/InputMono/InputMonoCompressed/InputMonoCompressed-Regular.ttf'))\n",
    "    \n",
    "    p_width  = 21*inch\n",
    "    p_heigth = 12.75*inch\n",
    "    \n",
    "    # Start the chapter\n",
    "    packet   = StringIO.StringIO()\n",
    "    _canvas  = canvas.Canvas(packet, pagesize=(p_width, p_heigth), verbosity=1)\n",
    "    \n",
    "    \n",
    "    _chrl    = _chr.upper().replace(\"CHR\",\"\")\n",
    "    \n",
    "    for shift in [0, 5.42*inch]:\n",
    "        \n",
    "        _canvas.setFont(\"InputMonoCompressedThin\", 18)\n",
    "        _canvas.translate(0, 0)\n",
    "        _canvas.drawCentredString(p_width/2+shift, p_heigth/2-4.8*inch, \"CHR{} {}/{}\".format(\" \"*len(str(_chrl)),\n",
    "                                                                                       \" \"*len(str(_vol_in_chromosome+1)),\n",
    "                                                                                       _to_vols_chromosomes))\n",
    "\n",
    "        _canvas.setFont(\"InputMonoCompressedRegular\", 18)\n",
    "        _canvas.translate(0, 0)\n",
    "        _canvas.drawCentredString(p_width/2+shift, p_heigth/2-4.8*inch, \"   {} {} {}\".format(_chrl,\n",
    "                                                                                       _vol_in_chromosome+1,\n",
    "                                                                                      \" \"*len(str(_to_vols_chromosomes))))\n",
    "\n",
    "        _canvas.setFont(\"InputMonoCompressedThin\", 22)\n",
    "        _canvas.translate(0, 0)\n",
    "        _canvas.drawCentredString(p_width/2+shift, p_heigth/2-5.2*inch, \"V{}/{}\".format(\" \"*len(str(_vol_in_collection+1)), _to_vols_collection))\n",
    "\n",
    "        _canvas.setFont(\"InputMonoCompressedRegular\", 22)\n",
    "        _canvas.translate(0, 0)\n",
    "        _canvas.drawCentredString(p_width/2+shift, p_heigth/2-5.2*inch, \" {} {}\".format(_vol_in_collection+1, \" \"*len(str(_to_vols_collection))))\n",
    "    \n",
    "#     _canvas.setFont(\"InputMonoCompressedRegular\", 18)\n",
    "#     _canvas.translate(0, 0)\n",
    "#     _canvas.drawCentredString(p_width/2, p_heigth/2-4.8*inch, \"   {} {}   \".format(_chr.upper().replace(\"CHR\",\"\"), _vol_in_chromosome))\n",
    "    \n",
    "    \n",
    "    _canvas.save()\n",
    "    packet.seek(0)\n",
    "    \n",
    "    #move to the beginning of the StringIO buffer\n",
    "    existing_pdf = PdfFileReader(file(\"special_pages/{}\".format(_get_base_page(_chr)), \"rb\"))\n",
    "    \n",
    "    new_pdf = PdfFileReader(packet)\n",
    "    output  = PdfFileWriter()\n",
    "    # add the \"watermark\" (which is the new pdf) on the existing page\n",
    "    page = existing_pdf.getPage(0)\n",
    "    page.mergePage(new_pdf.getPage(0))\n",
    "    output.addPage(page)\n",
    "    # finally, write \"output\" to a real file\n",
    "    \n",
    "    fname = \"0\"*(3-len(str(_vol_in_collection+1)))+str(_vol_in_collection+1)+\"-C-\"+_version+\".pdf\"\n",
    "    outputStream = file(fname, \"wb\")\n",
    "    output.write(outputStream)\n",
    "    outputStream.close()"
   ]
  },
  {
   "cell_type": "code",
   "execution_count": 25,
   "metadata": {
    "collapsed": true
   },
   "outputs": [],
   "source": [
    "def print_blank_page(_canvas, _version):\n",
    "    return"
   ]
  },
  {
   "cell_type": "markdown",
   "metadata": {},
   "source": [
    "## Volume printers"
   ]
  },
  {
   "cell_type": "code",
   "execution_count": 26,
   "metadata": {
    "collapsed": false
   },
   "outputs": [],
   "source": [
    "from PyPDF2 import PdfFileMerger, PdfFileReader\n",
    "\n",
    "# Main document sizes\n",
    "\n",
    "def print_volume(_version, _chr, _pos_start, \n",
    "                 print_border=False, max_pages=1600, add_first_last = True, collection_total_pages=248956,\n",
    "                 vol_in_chromosome=0, vol_in_collection=0, start_page_in_collection=0):\n",
    "\n",
    "    \n",
    "    # Get the page data\n",
    "    p_width, p_heigth, p_bleed, p_margin, p_width_int, p_heigth_int = get_page_data()\n",
    "    \n",
    "    # Generate volume name\n",
    "    volume_name  = \"{}.{}_{}_{}.pdf\".format(_chr, vol_in_chromosome+1, vol_in_collection+1, _version)\n",
    "    if add_first_last:\n",
    "        volume_name = \"TODELETE_\"+volume_name\n",
    "        \n",
    "    # Start the chapter\n",
    "    c = canvas.Canvas(volume_name, pagesize=(p_width, p_heigth), verbosity=1)\n",
    "\n",
    "    # Build the borders\n",
    "    keep_unrolling  = True\n",
    "    page_count      = 0\n",
    "    page_count_ww   = 0\n",
    "    page_start      = _pos_start\n",
    "    over_chr        = False\n",
    "    \n",
    "    while keep_unrolling:\n",
    "        \n",
    "        if page_count==0 and add_first_last:\n",
    "            c.showPage()\n",
    "            \n",
    "        if print_border:\n",
    "            c.translate(0, 0)\n",
    "            c.setStrokeColorRGB(0.2,0.5,0.3)\n",
    "            c.rect(p_bleed,p_bleed, p_width-2*p_bleed, p_heigth-2*p_bleed)\n",
    "\n",
    "            c.translate(p_bleed, p_bleed)\n",
    "            c.setStrokeColorRGB(0.2,0.5,0.3)\n",
    "            c.rect(p_margin,p_margin, p_width_int, p_heigth_int)\n",
    "        else:\n",
    "            c.translate(p_bleed, p_bleed)\n",
    "        \n",
    "        if over_chr:\n",
    "            print_blank_page(c, _version)\n",
    "            #print_filler_page(c, _version)\n",
    "        else:\n",
    "            page_end    = print_standard_page(c, _version, _chr, page_start, num_page=start_page_in_collection+page_count, collection_total_pages=collection_total_pages)\n",
    "            page_start  = page_end\n",
    "            page_count += 1\n",
    "            \n",
    "        c.showPage()\n",
    "        \n",
    "        page_count_ww += 1\n",
    "        \n",
    "        if page_count_ww>=max_pages:\n",
    "            keep_unrolling = False\n",
    "            \n",
    "        if page_end >= venter_sizes[_chr]:\n",
    "            over_chr = True\n",
    "        \n",
    "#         if page_count>=10:\n",
    "#             keep_unrolling = False\n",
    "        \n",
    "    # Add the first_last\n",
    "    if add_first_last:\n",
    "        c.showPage()\n",
    "    \n",
    "    c.save()\n",
    "    \n",
    "    if add_first_last:\n",
    "        merger = PdfFileMerger()\n",
    "        fname = \"0\"*(3-len(str(vol_in_collection+1)))+str(vol_in_collection+1)+\"-T-\"+_version+\".pdf\"\n",
    "        merger.append(PdfFileReader(file(\"special_pages/Page-1.pdf\", 'rb')))\n",
    "        merger.append(PdfFileReader(file(volume_name, 'rb')))\n",
    "        merger.append(PdfFileReader(file(\"special_pages/Last-Page.pdf\", 'rb')))\n",
    "        merger.write(fname)\n",
    "        os.unlink(volume_name)\n",
    "        \n",
    "\n",
    "    return page_end, over_chr, page_count"
   ]
  },
  {
   "cell_type": "code",
   "execution_count": 27,
   "metadata": {
    "collapsed": false
   },
   "outputs": [],
   "source": [
    "def print_chromosome(_version, _chr, \n",
    "                     print_border = False, \n",
    "                     max_pages    = 1596, \n",
    "                     start_page_in_collection = 0, \n",
    "                     start_vol_in_collection  = 0, \n",
    "                     collection_total_pages   = 248956,\n",
    "                     tot_vols_chromosomes     = 0,\n",
    "                     tot_vols_collection      = 0):\n",
    "    \n",
    "    \n",
    "    vol_in_chromosome  = 0\n",
    "    pos_start          = 0\n",
    "    tot_pages_done     = 0\n",
    "    \n",
    "    keep_unrolling  = True\n",
    "    while keep_unrolling:\n",
    "        \n",
    "        pos_end, over_chr, pages_done = print_volume(_version, _chr, pos_start, \n",
    "                                                     print_border = print_border, \n",
    "                                                     max_pages    = max_pages,\n",
    "                                                     collection_total_pages = collection_total_pages,\n",
    "                                                     #\n",
    "                                                     vol_in_collection        = start_vol_in_collection+vol_in_chromosome, \n",
    "                                                     vol_in_chromosome        = vol_in_chromosome, \n",
    "                                                     start_page_in_collection = start_page_in_collection+tot_pages_done)\n",
    "\n",
    "        print_cover_page(_version, _chr, \n",
    "                         vol_in_chromosome, tot_vols_chromosomes, \n",
    "                         start_vol_in_collection+vol_in_chromosome, tot_vols_collection)\n",
    "            \n",
    "        tot_pages_done    += pages_done\n",
    "        vol_in_chromosome += 1\n",
    "        print \"Chromosome {} - volume {}-{} generated\".format(_chr, vol_in_chromosome, start_vol_in_collection+vol_in_chromosome)\n",
    "        \n",
    "        pos_start          = pos_end\n",
    "        if over_chr:\n",
    "            keep_unrolling=False\n",
    "            \n",
    "    return vol_in_chromosome, tot_pages_done"
   ]
  },
  {
   "cell_type": "code",
   "execution_count": 28,
   "metadata": {
    "collapsed": false
   },
   "outputs": [],
   "source": [
    "def pre_compute_chromosome(_version, _chr, max_pages = 1596, skip_lines=2):\n",
    "    \n",
    "    # Get version details\n",
    "    n_lines    = versions[_version][2]\n",
    "    n_letters  = versions[_version][3]\n",
    "    line_space = versions[_version][4]\n",
    "    top_shift  = versions[_version][5]\n",
    "    left_shift = versions[_version][6]\n",
    "    \n",
    "    chr_len    = venter_sizes[_chr]\n",
    "    \n",
    "    chr_pages      = int(chr_len/(n_letters*(n_lines-skip_lines)))\n",
    "    chr_pages_left = chr_len % (n_letters*(n_lines-skip_lines))\n",
    "    if chr_pages_left > 0:\n",
    "        chr_pages+=1\n",
    "    \n",
    "    chr_volumes      = int(chr_pages/max_pages)\n",
    "    chr_volumes_left = chr_pages%max_pages\n",
    "    white_pages      = 0\n",
    "    \n",
    "    if chr_volumes_left > 0:\n",
    "        chr_volumes+=1\n",
    "        white_pages+=max_pages-(chr_pages%max_pages)\n",
    "    \n",
    "    return chr_volumes, chr_pages, white_pages\n",
    "        "
   ]
  },
  {
   "cell_type": "code",
   "execution_count": 29,
   "metadata": {
    "collapsed": false
   },
   "outputs": [],
   "source": [
    "def print_collection(_version, dry_run = False, max_pages=1596, chr_list = None):\n",
    "    \n",
    "    total_volumes = 0\n",
    "    total_pages   = 0\n",
    "    \n",
    "    total_volumes_exp = 0\n",
    "    total_pages_exp   = 0\n",
    "    total_pages_exp_w = 0\n",
    "    \n",
    "    if chr_list is None:\n",
    "        chr_list = [\"chr1\", \"chr2\", \"chr3\", \"chr4\", \"chr5\", \"chr6\", \"chr7\", \"chr8\", \"chr9\", \\\n",
    "                    \"chr10\", \"chr11\", \"chr12\", \"chr13\", \"chr14\", \"chr15\", \"chr16\", \"chr17\", \"chr18\", \\\n",
    "                    \"chr19\", \"chr20\", \"chr21\", \"chr22\", \"chrX\", \"chrY\"]\n",
    "    \n",
    "    \n",
    "    \n",
    "    chr_volumes_store = {}\n",
    "    for _chr in chr_list:\n",
    "        \n",
    "        chr_volumes, chr_pages, white_pages = pre_compute_chromosome(_version, _chr, max_pages=max_pages)\n",
    "        chr_volumes_store[_chr] = chr_volumes\n",
    "        total_volumes_exp      += chr_volumes\n",
    "        total_pages_exp        += chr_pages\n",
    "        total_pages_exp_w      += white_pages\n",
    "        print \"{}\\tExpecting\\t{}\\tvolumes with a total of\\t{}\\tpages [{}\\twhite]\".format(_chr, chr_volumes, chr_pages, white_pages)\n",
    "       \n",
    "    print \"Expected: {} {} [{}]\".format(total_volumes_exp, total_pages_exp, total_pages_exp_w)\n",
    "    \n",
    "    if not dry_run:\n",
    "        for _chr in chr_list:\n",
    "\n",
    "            chr_volumes, chr_pages = print_chromosome(_version, _chr, \n",
    "                                                      start_vol_in_collection=total_volumes, \n",
    "                                                      start_page_in_collection=total_pages,\n",
    "                                                      collection_total_pages=total_pages_exp,\n",
    "                                                      tot_vols_chromosomes     = chr_volumes_store[_chr],\n",
    "                                                      tot_vols_collection      = total_volumes_exp\n",
    "                                                     )\n",
    "            total_volumes += chr_volumes\n",
    "            total_pages   += chr_pages\n",
    "    \n",
    "        print \"Executed: {} {}\".format(total_volumes, total_pages)"
   ]
  },
  {
   "cell_type": "code",
   "execution_count": 30,
   "metadata": {
    "collapsed": false,
    "scrolled": false
   },
   "outputs": [],
   "source": [
    "#print_volume(\"vera_8\", \"chr1\", 0, print_border=False)\n",
    "#chr_volumes, chr_pages = print_chromosome(\"input_thin_8\", \"chr22\", start_vol_in_collection=123, start_page_in_collection=20000000)"
   ]
  },
  {
   "cell_type": "code",
   "execution_count": 31,
   "metadata": {
    "collapsed": false
   },
   "outputs": [
    {
     "name": "stdout",
     "output_type": "stream",
     "text": [
      "chr1\tExpecting\t13\tvolumes with a total of\t20528\tpages [220\twhite]\n",
      "chr2\tExpecting\t14\tvolumes with a total of\t21962\tpages [382\twhite]\n",
      "chr3\tExpecting\t12\tvolumes with a total of\t18255\tpages [897\twhite]\n",
      "chr4\tExpecting\t11\tvolumes with a total of\t17463\tpages [93\twhite]\n",
      "chr5\tExpecting\t11\tvolumes with a total of\t16409\tpages [1147\twhite]\n",
      "chr6\tExpecting\t10\tvolumes with a total of\t15754\tpages [206\twhite]\n",
      "chr7\tExpecting\t9\tvolumes with a total of\t14298\tpages [66\twhite]\n",
      "chr8\tExpecting\t9\tvolumes with a total of\t13227\tpages [1137\twhite]\n",
      "chr9\tExpecting\t7\tvolumes with a total of\t10341\tpages [831\twhite]\n",
      "chr10\tExpecting\t8\tvolumes with a total of\t12064\tpages [704\twhite]\n",
      "chr11\tExpecting\t8\tvolumes with a total of\t12243\tpages [525\twhite]\n",
      "chr12\tExpecting\t8\tvolumes with a total of\t12217\tpages [551\twhite]\n",
      "chr13\tExpecting\t6\tvolumes with a total of\t8921\tpages [655\twhite]\n",
      "chr14\tExpecting\t6\tvolumes with a total of\t8179\tpages [1397\twhite]\n",
      "chr15\tExpecting\t5\tvolumes with a total of\t7345\tpages [635\twhite]\n",
      "chr16\tExpecting\t5\tvolumes with a total of\t7097\tpages [883\twhite]\n",
      "chr17\tExpecting\t5\tvolumes with a total of\t7162\tpages [818\twhite]\n",
      "chr18\tExpecting\t5\tvolumes with a total of\t6982\tpages [998\twhite]\n",
      "chr19\tExpecting\t4\tvolumes with a total of\t5184\tpages [1200\twhite]\n",
      "chr20\tExpecting\t4\tvolumes with a total of\t5580\tpages [804\twhite]\n",
      "chr21\tExpecting\t2\tvolumes with a total of\t3132\tpages [60\twhite]\n",
      "chr22\tExpecting\t2\tvolumes with a total of\t3190\tpages [2\twhite]\n",
      "chrX\tExpecting\t9\tvolumes with a total of\t13444\tpages [920\twhite]\n",
      "chrY\tExpecting\t2\tvolumes with a total of\t1807\tpages [1385\twhite]\n",
      "Expected: 175 262784 [16516]\n"
     ]
    }
   ],
   "source": [
    "print_collection(\"input_thin_8\", dry_run=True)"
   ]
  },
  {
   "cell_type": "code",
   "execution_count": 32,
   "metadata": {
    "collapsed": false
   },
   "outputs": [
    {
     "name": "stdout",
     "output_type": "stream",
     "text": [
      "chr1\tExpecting\t13\tvolumes with a total of\t19447\tpages [1301\twhite]\n",
      "chr2\tExpecting\t14\tvolumes with a total of\t20806\tpages [1538\twhite]\n",
      "chr3\tExpecting\t11\tvolumes with a total of\t17294\tpages [262\twhite]\n",
      "chr4\tExpecting\t11\tvolumes with a total of\t16544\tpages [1012\twhite]\n",
      "chr5\tExpecting\t10\tvolumes with a total of\t15546\tpages [414\twhite]\n",
      "chr6\tExpecting\t10\tvolumes with a total of\t14925\tpages [1035\twhite]\n",
      "chr7\tExpecting\t9\tvolumes with a total of\t13546\tpages [818\twhite]\n",
      "chr8\tExpecting\t8\tvolumes with a total of\t12531\tpages [237\twhite]\n",
      "chr9\tExpecting\t7\tvolumes with a total of\t9797\tpages [1375\twhite]\n",
      "chr10\tExpecting\t8\tvolumes with a total of\t11429\tpages [1339\twhite]\n",
      "chr11\tExpecting\t8\tvolumes with a total of\t11599\tpages [1169\twhite]\n",
      "chr12\tExpecting\t8\tvolumes with a total of\t11574\tpages [1194\twhite]\n",
      "chr13\tExpecting\t6\tvolumes with a total of\t8452\tpages [1124\twhite]\n",
      "chr14\tExpecting\t5\tvolumes with a total of\t7749\tpages [231\twhite]\n",
      "chr15\tExpecting\t5\tvolumes with a total of\t6959\tpages [1021\twhite]\n",
      "chr16\tExpecting\t5\tvolumes with a total of\t6724\tpages [1256\twhite]\n",
      "chr17\tExpecting\t5\tvolumes with a total of\t6785\tpages [1195\twhite]\n",
      "chr18\tExpecting\t5\tvolumes with a total of\t6614\tpages [1366\twhite]\n",
      "chr19\tExpecting\t4\tvolumes with a total of\t4911\tpages [1473\twhite]\n",
      "chr20\tExpecting\t4\tvolumes with a total of\t5286\tpages [1098\twhite]\n",
      "chr21\tExpecting\t2\tvolumes with a total of\t2967\tpages [225\twhite]\n",
      "chr22\tExpecting\t2\tvolumes with a total of\t3023\tpages [169\twhite]\n",
      "chrX\tExpecting\t8\tvolumes with a total of\t12736\tpages [32\twhite]\n",
      "chrY\tExpecting\t2\tvolumes with a total of\t1712\tpages [1480\twhite]\n",
      "Expected: 170 248956 [22364]\n"
     ]
    }
   ],
   "source": [
    "print_collection(\"vera_8\", dry_run=True)"
   ]
  },
  {
   "cell_type": "code",
   "execution_count": 33,
   "metadata": {
    "collapsed": false,
    "scrolled": false
   },
   "outputs": [],
   "source": [
    "#print_collection(\"input_thin_8\")"
   ]
  },
  {
   "cell_type": "code",
   "execution_count": 36,
   "metadata": {
    "collapsed": false
   },
   "outputs": [
    {
     "name": "stdout",
     "output_type": "stream",
     "text": [
      "saved \n"
     ]
    }
   ],
   "source": [
    "print_cover_page(\"input_thin_8\", \"chrY\", 0, 2, 173, 175)"
   ]
  },
  {
   "cell_type": "code",
   "execution_count": 37,
   "metadata": {
    "collapsed": false
   },
   "outputs": [
    {
     "name": "stdout",
     "output_type": "stream",
     "text": [
      "saved \n"
     ]
    }
   ],
   "source": [
    "print_cover_page(\"input_thin_8\", \"chrY\", 1, 2, 174, 175)"
   ]
  },
  {
   "cell_type": "code",
   "execution_count": null,
   "metadata": {
    "collapsed": true
   },
   "outputs": [],
   "source": []
  }
 ],
 "metadata": {
  "kernelspec": {
   "display_name": "Python 2",
   "language": "python",
   "name": "python2"
  },
  "language_info": {
   "codemirror_mode": {
    "name": "ipython",
    "version": 2
   },
   "file_extension": ".py",
   "mimetype": "text/x-python",
   "name": "python",
   "nbconvert_exporter": "python",
   "pygments_lexer": "ipython2",
   "version": "2.7.11"
  }
 },
 "nbformat": 4,
 "nbformat_minor": 0
}
